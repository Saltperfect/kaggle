{
 "cells": [
  {
   "cell_type": "code",
   "execution_count": 54,
   "metadata": {},
   "outputs": [],
   "source": [
    "import warnings\n",
    "warnings.filterwarnings('ignore')\n",
    "import quandl\n",
    "import pickle\n",
    "import pandas as pd\n",
    "import numpy as np\n",
    "from sklearn import preprocessing, cross_validation, svm\n",
    "from sklearn.linear_model import LinearRegression\n",
    "from sklearn.model_selection import train_test_split\n",
    "import matplotlib.pyplot as plt\n",
    "from matplotlib import style\n",
    "import time, datetime\n",
    "from sklearn.linear_model import LogisticRegressionCV\n",
    "from sklearn import tree\n",
    "from sklearn.ensemble import GradientBoostingRegressor,GradientBoostingClassifier\n",
    "from matplotlib.colors import ListedColormap\n",
    "from sklearn.model_selection import train_test_split\n",
    "from sklearn.preprocessing import StandardScaler\n",
    "from sklearn.datasets import make_moons, make_circles, make_classification\n",
    "from sklearn.neural_network import MLPClassifier\n",
    "from sklearn.neighbors import KNeighborsClassifier\n",
    "from sklearn.svm import SVC\n",
    "from sklearn.gaussian_process import GaussianProcessClassifier\n",
    "from sklearn.gaussian_process.kernels import RBF\n",
    "from sklearn.tree import DecisionTreeClassifier\n",
    "from sklearn.ensemble import RandomForestClassifier, AdaBoostClassifier\n",
    "from sklearn.naive_bayes import GaussianNB\n",
    "from sklearn.discriminant_analysis import QuadraticDiscriminantAnalysis\n",
    "\n",
    "style.use('ggplot')"
   ]
  },
  {
   "cell_type": "code",
   "execution_count": 65,
   "metadata": {},
   "outputs": [],
   "source": [
    "df = pd.read_csv('criminal_train.csv')\n",
    "# df.info()"
   ]
  },
  {
   "cell_type": "code",
   "execution_count": 66,
   "metadata": {},
   "outputs": [],
   "source": [
    "df.head()\n",
    "df['ANALWT_C'] = np.log(df['ANALWT_C']+200)"
   ]
  },
  {
   "cell_type": "code",
   "execution_count": 67,
   "metadata": {},
   "outputs": [],
   "source": [
    "drp = ['PRXYDATA' , 'CHAMPUS','PRVHLTIN','IIMCDCHP','IICHMPUS','IIWELMOS','IRPINC3','GOVTPROG']\n",
    "X = np.array(df[drp])\n",
    "Y = np.array(df['Criminal'])\n",
    "X = preprocessing.scale(X)"
   ]
  },
  {
   "cell_type": "code",
   "execution_count": 68,
   "metadata": {},
   "outputs": [],
   "source": [
    "X_train, X_test, Y_train, Y_test = train_test_split(X,Y,test_size = 0.1)"
   ]
  },
  {
   "cell_type": "code",
   "execution_count": null,
   "metadata": {},
   "outputs": [],
   "source": [
    "# clf = LinearRegression()\n",
    "# clf = LogisticRegressionCV()\n",
    "clf = GradientBoostingClassifier()\n",
    "clf = GradientBoostingClassifier(n_estimators=2000, learning_rate=0.02,\n",
    "                                   max_depth=4, max_features='sqrt',\n",
    "                                   min_samples_leaf=15, min_samples_split=10, random_state =5)\n",
    "# clf = RandomForestClassifier(n_estimators=2000,\n",
    "#                                    max_depth=4, max_features='sqrt',\n",
    "#                                    min_samples_leaf=15, min_samples_split=10, random_state =5,n_jobs = -1)\n",
    "# clf = svm.SVC(C=1,gamma=.002)\n",
    "# clf = DecisionTreeClassifier(max_depth=10,random_state=10)\n",
    "clf.fit(X_train,Y_train)"
   ]
  },
  {
   "cell_type": "code",
   "execution_count": null,
   "metadata": {},
   "outputs": [],
   "source": [
    "clf.score(X_test,Y_test)"
   ]
  },
  {
   "cell_type": "code",
   "execution_count": 45,
   "metadata": {},
   "outputs": [
    {
     "name": "stdout",
     "output_type": "stream",
     "text": [
      "[  2.01320249e-02   1.18820304e-02   5.90610369e-03   1.23612002e-05\n",
      "   2.85098875e-03   6.69386197e-07   1.69503488e-02   3.31458814e-06\n",
      "   5.68043469e-05   7.97275470e-03   3.89738772e-02   2.26998261e-02\n",
      "   8.06504097e-04   9.15448486e-02   1.33072015e-01   1.28455956e-02\n",
      "   5.45296546e-03   6.28493176e-04   6.10657034e-03   2.57504806e-03\n",
      "   4.44317550e-04   5.12244439e-04   5.30867216e-04   5.40895518e-04\n",
      "   3.61779996e-04   1.70210639e-02   8.23446267e-04   4.20364710e-02\n",
      "   4.34431235e-04   2.67401857e-04   5.75867980e-04   9.96356216e-02\n",
      "   1.23485581e-02   9.50766684e-03   1.10619905e-02   0.00000000e+00\n",
      "   0.00000000e+00   3.78461897e-03   4.28132465e-03   9.34863544e-04\n",
      "   1.73089199e-02   1.69802962e-03   2.25220994e-03   1.90030346e-02\n",
      "   8.79052959e-05   1.39495986e-03   2.39013258e-04   1.00931913e-02\n",
      "   5.65474243e-05   2.37245823e-04   1.40512251e-04   2.65910300e-04\n",
      "   2.69240320e-04   7.91882062e-04   1.07339855e-03   5.58613117e-02\n",
      "   1.85942870e-01   8.70004025e-05   5.18717562e-04   1.16869590e-02\n",
      "   1.00556581e-01   1.78303403e-04   1.03945823e-04   3.19840016e-04\n",
      "   2.77827847e-04   2.95511841e-05   3.51875025e-05   3.45126026e-03\n",
      "   3.94412981e-04   6.76547737e-05]\n"
     ]
    }
   ],
   "source": [
    "print(clf.feature_importances_.astype('float'))"
   ]
  },
  {
   "cell_type": "code",
   "execution_count": 51,
   "metadata": {},
   "outputs": [
    {
     "name": "stdout",
     "output_type": "stream",
     "text": [
      "PRXYDATA\n",
      "CHAMPUS\n",
      "PRVHLTIN\n",
      "IIMCDCHP\n",
      "IICHMPUS\n",
      "IIWELMOS\n",
      "IRPINC3\n",
      "GOVTPROG\n"
     ]
    }
   ],
   "source": [
    "for i,imp in enumerate(clf.feature_importances_):\n",
    "    if(imp>2.69240320e-02):\n",
    "        print(df.columns[i])\n",
    "        "
   ]
  },
  {
   "cell_type": "code",
   "execution_count": 23,
   "metadata": {},
   "outputs": [],
   "source": [
    "# classifiers = [\n",
    "#     KNeighborsClassifier(3),\n",
    "#     SVC(kernel=\"linear\", C=0.025),\n",
    "#     SVC(gamma=2, C=1),\n",
    "#     GaussianProcessClassifier(1.0 * RBF(1.0)),\n",
    "#     DecisionTreeClassifier(max_depth=5),\n",
    "#     RandomForestClassifier(max_depth=5, n_estimators=10, max_features=1),\n",
    "#     MLPClassifier(alpha=1),\n",
    "#     AdaBoostClassifier(),\n",
    "#     GaussianNB(),\n",
    "#     QuadraticDiscriminantAnalysis()]\n",
    "\n",
    "\n",
    "# clf = classifiers[0].fit(X_train,Y_train)\n",
    "# print(clf,clf.score(X_test,Y_test))\n",
    "    "
   ]
  },
  {
   "cell_type": "code",
   "execution_count": 24,
   "metadata": {},
   "outputs": [],
   "source": [
    "test = pd.read_csv('criminal_test.csv')\n",
    "test.head()\n",
    "df['ANALWT_C'] = np.log(df['ANALWT_C']+200)"
   ]
  },
  {
   "cell_type": "code",
   "execution_count": null,
   "metadata": {},
   "outputs": [],
   "source": []
  },
  {
   "cell_type": "code",
   "execution_count": 25,
   "metadata": {},
   "outputs": [],
   "source": [
    "X_t = np.array(test.drop(['PERID'],1))\n",
    "X_t = preprocessing.scale(X_t)"
   ]
  },
  {
   "cell_type": "code",
   "execution_count": 26,
   "metadata": {},
   "outputs": [
    {
     "data": {
      "text/html": [
       "<div>\n",
       "<style>\n",
       "    .dataframe thead tr:only-child th {\n",
       "        text-align: right;\n",
       "    }\n",
       "\n",
       "    .dataframe thead th {\n",
       "        text-align: left;\n",
       "    }\n",
       "\n",
       "    .dataframe tbody tr th {\n",
       "        vertical-align: top;\n",
       "    }\n",
       "</style>\n",
       "<table border=\"1\" class=\"dataframe\">\n",
       "  <thead>\n",
       "    <tr style=\"text-align: right;\">\n",
       "      <th></th>\n",
       "      <th>Criminal</th>\n",
       "    </tr>\n",
       "    <tr>\n",
       "      <th>PERID</th>\n",
       "      <th></th>\n",
       "    </tr>\n",
       "  </thead>\n",
       "  <tbody>\n",
       "    <tr>\n",
       "      <th>66583679</th>\n",
       "      <td>0</td>\n",
       "    </tr>\n",
       "    <tr>\n",
       "      <th>35494679</th>\n",
       "      <td>0</td>\n",
       "    </tr>\n",
       "    <tr>\n",
       "      <th>79424679</th>\n",
       "      <td>0</td>\n",
       "    </tr>\n",
       "    <tr>\n",
       "      <th>11744679</th>\n",
       "      <td>0</td>\n",
       "    </tr>\n",
       "    <tr>\n",
       "      <th>31554679</th>\n",
       "      <td>0</td>\n",
       "    </tr>\n",
       "  </tbody>\n",
       "</table>\n",
       "</div>"
      ],
      "text/plain": [
       "          Criminal\n",
       "PERID             \n",
       "66583679         0\n",
       "35494679         0\n",
       "79424679         0\n",
       "11744679         0\n",
       "31554679         0"
      ]
     },
     "execution_count": 26,
     "metadata": {},
     "output_type": "execute_result"
    }
   ],
   "source": [
    "out = pd.DataFrame()\n",
    "out['PERID'] = test['PERID']\n",
    "out['Criminal']  = pd.DataFrame(clf.predict(X_t))\n",
    "out.set_index('PERID').head()"
   ]
  },
  {
   "cell_type": "code",
   "execution_count": 27,
   "metadata": {},
   "outputs": [],
   "source": [
    "out.to_csv('out.csv',index=None)"
   ]
  },
  {
   "cell_type": "code",
   "execution_count": null,
   "metadata": {},
   "outputs": [],
   "source": []
  }
 ],
 "metadata": {
  "kernelspec": {
   "display_name": "Python 3",
   "language": "python",
   "name": "python3"
  },
  "language_info": {
   "codemirror_mode": {
    "name": "ipython",
    "version": 3
   },
   "file_extension": ".py",
   "mimetype": "text/x-python",
   "name": "python",
   "nbconvert_exporter": "python",
   "pygments_lexer": "ipython3",
   "version": "3.6.2"
  }
 },
 "nbformat": 4,
 "nbformat_minor": 2
}
