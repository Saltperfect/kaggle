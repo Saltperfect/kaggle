{
 "cells": [
  {
   "cell_type": "code",
   "execution_count": 15,
   "metadata": {},
   "outputs": [],
   "source": [
    "import numpy as np\n",
    "import pandas as pd\n",
    "from sklearn import preprocessing,cross_validation,svm\n",
    "from sklearn.linear_model import LinearRegression,LogisticRegression\n",
    "from sklearn import tree\n",
    "from sklearn.ensemble import GradientBoostingRegressor\n",
    "from sklearn.ensemble import GradientBoostingRegressor,RandomForestClassifier\n",
    "from sklearn.neighbors import KNeighborsClassifier #KNN\n",
    "from sklearn.naive_bayes import GaussianNB #Naive bayes\n",
    "scaler = False"
   ]
  },
  {
   "cell_type": "code",
   "execution_count": 16,
   "metadata": {},
   "outputs": [
    {
     "name": "stdout",
     "output_type": "stream",
     "text": [
      "   PassengerId  Survived  Pclass  \\\n",
      "0            1         0       3   \n",
      "1            2         1       1   \n",
      "2            3         1       3   \n",
      "3            4         1       1   \n",
      "4            5         0       3   \n",
      "\n",
      "                                                Name     Sex   Age  SibSp  \\\n",
      "0                            Braund, Mr. Owen Harris    male  22.0      1   \n",
      "1  Cumings, Mrs. John Bradley (Florence Briggs Th...  female  38.0      1   \n",
      "2                             Heikkinen, Miss. Laina  female  26.0      0   \n",
      "3       Futrelle, Mrs. Jacques Heath (Lily May Peel)  female  35.0      1   \n",
      "4                           Allen, Mr. William Henry    male  35.0      0   \n",
      "\n",
      "   Parch            Ticket     Fare Cabin Embarked  \n",
      "0      0         A/5 21171   7.2500   NaN        S  \n",
      "1      0          PC 17599  71.2833   C85        C  \n",
      "2      0  STON/O2. 3101282   7.9250   NaN        S  \n",
      "3      0            113803  53.1000  C123        S  \n",
      "4      0            373450   8.0500   NaN        S  \n"
     ]
    }
   ],
   "source": [
    "df = pd.read_csv('train.csv')\n",
    "print(df.head())"
   ]
  },
  {
   "cell_type": "code",
   "execution_count": 17,
   "metadata": {},
   "outputs": [
    {
     "name": "stdout",
     "output_type": "stream",
     "text": [
      "   Pclass  Sex  SibSp  Parch     Fare   Age  Embarked\n",
      "0       3    0      1      0   7.2500  22.0        -1\n",
      "1       1    1      1      0  71.2833  38.0         0\n",
      "2       3    1      0      0   7.9250  26.0        -1\n",
      "3       1    1      1      0  53.1000  35.0        -1\n",
      "4       3    0      0      0   8.0500  35.0        -1\n"
     ]
    }
   ],
   "source": [
    "def training_data():\n",
    "    X = df[['Pclass','Sex','SibSp','Parch','Fare','Age','Embarked']]\n",
    "    X=X.fillna(method='ffill')\n",
    "\n",
    "    X.loc[X['Sex']=='female','Sex']=1\n",
    "    X.loc[X['Sex']=='male','Sex']=0\n",
    "    X.loc[X['Embarked']=='S','Embarked']=-1\n",
    "    X.loc[X['Embarked']=='C','Embarked']=0\n",
    "    X.loc[X['Embarked']=='Q','Embarked']=1\n",
    "\n",
    "    print(X.head())\n",
    "    X_train = preprocessing.scale(X)\n",
    "#     scaler = preprocessing.StandardScaler().fit(X)\n",
    "#     X_train = scaler.transform(X)\n",
    "    \n",
    "    y_train = df['Survived']\n",
    "    return X_train,y_train\n",
    "X,y = training_data()"
   ]
  },
  {
   "cell_type": "code",
   "execution_count": 18,
   "metadata": {},
   "outputs": [
    {
     "name": "stdout",
     "output_type": "stream",
     "text": [
      "   Pclass  Sex  SibSp  Parch     Fare   Age  Embarked\n",
      "0       3    0      0      0   7.8292  34.5         1\n",
      "1       3    1      1      0   7.0000  47.0        -1\n",
      "2       2    0      0      0   9.6875  62.0         1\n",
      "3       3    0      0      0   8.6625  27.0        -1\n",
      "4       3    1      1      1  12.2875  22.0        -1\n"
     ]
    }
   ],
   "source": [
    "def testing_data():\n",
    "    df = pd.read_csv('test.csv')\n",
    "    X = df[['Pclass','Sex','SibSp','Parch','Fare','Age','Embarked']]\n",
    "    X=X.fillna(-99999)\n",
    "\n",
    "    X.loc[X['Sex']=='female','Sex']=1\n",
    "    X.loc[X['Sex']=='male','Sex']=0\n",
    "    X.loc[X['Embarked']=='S','Embarked']=-1\n",
    "    X.loc[X['Embarked']=='C','Embarked']=0\n",
    "    X.loc[X['Embarked']=='Q','Embarked']=1\n",
    "    print(X.head())\n",
    "    X_test = preprocessing.scale(X)\n",
    "#     scaler = preprocessing.StandardScaler().fit(X)\n",
    "#     X_test = scaler.transform(X)\n",
    "    return X_test\n",
    "test = testing_data()"
   ]
  },
  {
   "cell_type": "code",
   "execution_count": 19,
   "metadata": {},
   "outputs": [],
   "source": [
    "X_train, X_test, y_train, y_test = cross_validation.train_test_split(X,y,test_size=0.2)"
   ]
  },
  {
   "cell_type": "code",
   "execution_count": 20,
   "metadata": {},
   "outputs": [
    {
     "name": "stdout",
     "output_type": "stream",
     "text": [
      "83.05586592178766\n"
     ]
    }
   ],
   "source": [
    "#Linear Support Vector Machine(linear-SVM)\n",
    "score = 0\n",
    "for i in range(100):\n",
    "    X_train, X_test, y_train, y_test = cross_validation.train_test_split(X,y,test_size=0.2)\n",
    "    clf = svm.SVC(C=4,gamma=.1)\n",
    "    clf = clf.fit(X_train, y_train)\n",
    "    clf.fit(X_train,y_train)\n",
    "    score += clf.score(X_test,y_test)\n",
    "print(score)"
   ]
  },
  {
   "cell_type": "code",
   "execution_count": 21,
   "metadata": {},
   "outputs": [
    {
     "data": {
      "text/plain": [
       "0.8435754189944135"
      ]
     },
     "execution_count": 21,
     "metadata": {},
     "output_type": "execute_result"
    }
   ],
   "source": [
    "#Radial Support Vector Machines(rbf-SVM)\n",
    "clf = svm.SVC(kernel='rbf',C=4,gamma=.1)\n",
    "clf = clf.fit(X_train, y_train)\n",
    "clf.fit(X_train,y_train)\n",
    "clf.score(X_test,y_test)"
   ]
  },
  {
   "cell_type": "code",
   "execution_count": 22,
   "metadata": {},
   "outputs": [
    {
     "data": {
      "text/plain": [
       "0.776536312849162"
      ]
     },
     "execution_count": 22,
     "metadata": {},
     "output_type": "execute_result"
    }
   ],
   "source": [
    "#Logistic Regression\n",
    "\n",
    "clf = LogisticRegression()\n",
    "clf = clf.fit(X_train, y_train)\n",
    "clf.fit(X_train,y_train)\n",
    "clf.score(X_test,y_test)"
   ]
  },
  {
   "cell_type": "code",
   "execution_count": 23,
   "metadata": {},
   "outputs": [
    {
     "data": {
      "text/plain": [
       "0.7988826815642458"
      ]
     },
     "execution_count": 23,
     "metadata": {},
     "output_type": "execute_result"
    }
   ],
   "source": [
    "#decision tree\n",
    "\n",
    "clf = tree.DecisionTreeClassifier()\n",
    "clf = clf.fit(X_train, y_train)\n",
    "clf.fit(X_train,y_train)\n",
    "clf.score(X_test,y_test)"
   ]
  },
  {
   "cell_type": "code",
   "execution_count": 24,
   "metadata": {},
   "outputs": [
    {
     "data": {
      "text/plain": [
       "0.4937879281825386"
      ]
     },
     "execution_count": 24,
     "metadata": {},
     "output_type": "execute_result"
    }
   ],
   "source": [
    "#GradientBoosting\n",
    "clf = GradientBoostingRegressor()\n",
    "clf = clf.fit(X_train, y_train)\n",
    "clf.fit(X_train,y_train)\n",
    "clf.score(X_test,y_test)"
   ]
  },
  {
   "cell_type": "code",
   "execution_count": 25,
   "metadata": {},
   "outputs": [
    {
     "data": {
      "text/plain": [
       "0.8044692737430168"
      ]
     },
     "execution_count": 25,
     "metadata": {},
     "output_type": "execute_result"
    }
   ],
   "source": [
    "#K-Nearest Neighbours(KNN)\n",
    "clf = KNeighborsClassifier(n_neighbors=2)\n",
    "clf = clf.fit(X_train, y_train)\n",
    "clf.fit(X_train,y_train)\n",
    "clf.score(X_test,y_test)"
   ]
  },
  {
   "cell_type": "code",
   "execution_count": 26,
   "metadata": {},
   "outputs": [
    {
     "data": {
      "text/plain": [
       "0.7486033519553073"
      ]
     },
     "execution_count": 26,
     "metadata": {},
     "output_type": "execute_result"
    }
   ],
   "source": [
    "#Gaussian Naive Bayes\n",
    "clf = GaussianNB()\n",
    "clf = clf.fit(X_train, y_train)\n",
    "clf.fit(X_train,y_train)\n",
    "clf.score(X_test,y_test)"
   ]
  },
  {
   "cell_type": "code",
   "execution_count": 27,
   "metadata": {},
   "outputs": [],
   "source": [
    "def get_output():  \n",
    "    clf = svm.SVC(kernel='rbf',C=1,gamma=0.05)\n",
    "    X,y = training_data()\n",
    "    clf = clf.fit(X,y)\n",
    "    clf.fit(X_train,y_train)\n",
    "    out = pd.DataFrame({'PassengerId':[i for i in range(892,1310)]})\n",
    "    out['Survived'] = clf.predict(testing_data())\n",
    "    out.set_index('PassengerId',inplace=True)\n",
    "    out.to_csv('out.csv')\n",
    "    print(out)"
   ]
  },
  {
   "cell_type": "code",
   "execution_count": 28,
   "metadata": {},
   "outputs": [
    {
     "name": "stdout",
     "output_type": "stream",
     "text": [
      "   Pclass  Sex  SibSp  Parch     Fare   Age  Embarked\n",
      "0       3    0      0      0   7.8292  34.5         1\n",
      "1       3    1      1      0   7.0000  47.0        -1\n",
      "2       2    0      0      0   9.6875  62.0         1\n",
      "3       3    0      0      0   8.6625  27.0        -1\n",
      "4       3    1      1      1  12.2875  22.0        -1\n"
     ]
    }
   ],
   "source": [
    "# X_train, X_test, y_train, y_test = cross_validation.train_test_split(X,y,test_size=0.)\n",
    "clf = svm.SVC(kernel='rbf',C=4,gamma=.1)\n",
    "clf = clf.fit(X, y)\n",
    "\n",
    "\n",
    "df = pd.read_csv('test.csv')\n",
    "X = df[['Pclass','Sex','SibSp','Parch','Fare','Age','Embarked']]\n",
    "X=X.fillna(0)\n",
    "X.loc[X['Sex']=='female','Sex']=1\n",
    "X.loc[X['Sex']=='male','Sex']=0\n",
    "X.loc[X['Embarked']=='S','Embarked']=-1\n",
    "X.loc[X['Embarked']=='C','Embarked']=0\n",
    "X.loc[X['Embarked']=='Q','Embarked']=1\n",
    "\n",
    "print(X.head())\n",
    "\n",
    "X_test = preprocessing.scale(X)\n",
    "# scaler = preprocessing.StandardScaler().fit(X)\n",
    "# X_test = scaler.transform(X)\n",
    "\n",
    "out = pd.DataFrame({'PassengerId':[i for i in range(892,1310)]})\n",
    "clf.fit(X_train,y_train)\n",
    "#clf.score(X_test,y_test)\n",
    "out['Survived'] = clf.predict(X_test)\n",
    "out.set_index('PassengerId',inplace=True)\n",
    "out.to_csv('out.csv')\n",
    "# print(out)"
   ]
  },
  {
   "cell_type": "code",
   "execution_count": null,
   "metadata": {},
   "outputs": [],
   "source": []
  },
  {
   "cell_type": "code",
   "execution_count": null,
   "metadata": {},
   "outputs": [],
   "source": []
  }
 ],
 "metadata": {
  "kernelspec": {
   "display_name": "Python 2",
   "language": "python",
   "name": "python2"
  },
  "language_info": {
   "codemirror_mode": {
    "name": "ipython",
    "version": 2
   },
   "file_extension": ".py",
   "mimetype": "text/x-python",
   "name": "python",
   "nbconvert_exporter": "python",
   "pygments_lexer": "ipython2",
   "version": "2.7.12"
  }
 },
 "nbformat": 4,
 "nbformat_minor": 2
}
