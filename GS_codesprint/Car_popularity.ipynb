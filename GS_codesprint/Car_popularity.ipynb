{
 "cells": [
  {
   "cell_type": "markdown",
   "metadata": {},
   "source": [
    "### Introduction\n",
    "\n",
    "A car company has the data for all the cars that are present in the market. They are planning to introduce some new ones of their own, but first, they want to find out what would be the popularity of the new cars in the market based on each car's attributes.\n",
    "\n",
    "We will provide you a dataset of cars along with the attributes of each car along with its popularity. Your task is to train a model that can predict the popularity of new cars based on the given attributes."
   ]
  },
  {
   "cell_type": "code",
   "execution_count": 2,
   "metadata": {},
   "outputs": [],
   "source": [
    "import warnings\n",
    "warnings.filterwarnings('ignore')\n",
    "\n",
    "#for data preprocessing \n",
    "import pandas as pd\n",
    "import numpy as np\n",
    "from sklearn import preprocessing, cross_validation, svm\n",
    "\n",
    "#for differnt classifier for testing \n",
    "from sklearn.linear_model import LogisticRegressionCV\n",
    "from sklearn.ensemble import GradientBoostingClassifier, RandomForestClassifier, AdaBoostClassifier\n",
    "from sklearn.preprocessing import StandardScaler\n",
    "from sklearn.neural_network import MLPClassifier\n",
    "from sklearn.neighbors import KNeighborsClassifier\n",
    "from sklearn.gaussian_process import GaussianProcessClassifier\n",
    "from sklearn.gaussian_process.kernels import RBF\n",
    "from sklearn.tree import DecisionTreeClassifier\n",
    "from sklearn.naive_bayes import GaussianNB\n",
    "from sklearn.discriminant_analysis import QuadraticDiscriminantAnalysis\n",
    "\n",
    "#for validation \n",
    "from sklearn.metrics import f1_score, accuracy_score\n",
    "from sklearn.model_selection import train_test_split\n",
    "from sklearn.model_selection import KFold #for K-fold cross validation\n",
    "from sklearn.model_selection import cross_val_score #score evaluation\n",
    "from sklearn.model_selection import cross_val_predict \n",
    "\n",
    "#for visualization\n",
    "import seaborn as sns\n",
    "import matplotlib.pyplot as plt\n",
    "from matplotlib import style\n",
    "style.use('ggplot')"
   ]
  },
  {
   "cell_type": "markdown",
   "metadata": {},
   "source": [
    "### Dataset\n",
    "\n",
    "You are given a training dataset, train.csv. The file is a comma separated file with useful information for this task:\n",
    "\n",
    "```train.csv``` contains the information about a car along with its popularity level. Each row provides information on each car. Information such as buying_price, maintenance_cost, number_of_doors, number_of_seats, etc. The definition of each attribute is as follows:<br>\n",
    "\n",
    "**buying_price**: The buying_price denotes the buying price of the car, and it ranges from [1...4], where buying_price equal to 1 represents the lowest price while buying_price equal to 4 represents the highest price.\n",
    "        \n",
    "**maintenance_cost**: The maintenance_cost denotes the maintenance cost of the car, and it ranges from [1...4], where maintenance_cost equal to 1 represents the lowest cost while maintenance_cost equal to 4 represents the highest cost.\n",
    "        \n",
    "**number_of_doors**: The number_of_doors denotes the number of doors in the car, and it ranges from [2...5], where each value of number_of_doors represents the number of doors in the car.\n",
    "\n",
    "**number_of_seats**: The number_of_seats denotes the number of seats in the car, and it consists of [2, 4, 5], where each value of number_of_seats represents the number of seats in the car.\n",
    "\n",
    "**luggage_boot_size**: The luggage_boot_size denotes the luggage boot size, and it ranges from [1...3], where luggage_boot_size equal to 1 represents smallest luggage boot size while luggage_boot_size equal to 3 represents largest luggage boot size.\n",
    "\n",
    "**safety_rating**: The safety_rating denotes the safety rating of the car, and it ranges from [1...3], where safety_rating equal to 1 represents low safety while safety_rating equal to 3 represents high safety.\n",
    "\n",
    "**popularity**: The popularity denotes the popularity of the car, and it ranges from [1...4], where popularity equal to 1 represents an unacceptable car, popularity equal to 2 represents an acc"
   ]
  },
  {
   "cell_type": "markdown",
   "metadata": {},
   "source": [
    "<h2 style=\"color:blue\">Data prepration </h2>"
   ]
  },
  {
   "cell_type": "code",
   "execution_count": 3,
   "metadata": {},
   "outputs": [],
   "source": [
    "df = pd.read_csv('data/train.csv')\n",
    "test = pd.read_csv('data/test.csv', header = None )"
   ]
  },
  {
   "cell_type": "code",
   "execution_count": 4,
   "metadata": {},
   "outputs": [
    {
     "data": {
      "text/html": [
       "<div>\n",
       "<style>\n",
       "    .dataframe thead tr:only-child th {\n",
       "        text-align: right;\n",
       "    }\n",
       "\n",
       "    .dataframe thead th {\n",
       "        text-align: left;\n",
       "    }\n",
       "\n",
       "    .dataframe tbody tr th {\n",
       "        vertical-align: top;\n",
       "    }\n",
       "</style>\n",
       "<table border=\"1\" class=\"dataframe\">\n",
       "  <thead>\n",
       "    <tr style=\"text-align: right;\">\n",
       "      <th></th>\n",
       "      <th>buying_price</th>\n",
       "      <th>maintainence_cost</th>\n",
       "      <th>number_of_doors</th>\n",
       "      <th>number_of_seats</th>\n",
       "      <th>luggage_boot_size</th>\n",
       "      <th>safety_rating</th>\n",
       "      <th>popularity</th>\n",
       "    </tr>\n",
       "  </thead>\n",
       "  <tbody>\n",
       "    <tr>\n",
       "      <th>0</th>\n",
       "      <td>3</td>\n",
       "      <td>2</td>\n",
       "      <td>4</td>\n",
       "      <td>2</td>\n",
       "      <td>2</td>\n",
       "      <td>2</td>\n",
       "      <td>1</td>\n",
       "    </tr>\n",
       "    <tr>\n",
       "      <th>1</th>\n",
       "      <td>3</td>\n",
       "      <td>2</td>\n",
       "      <td>2</td>\n",
       "      <td>5</td>\n",
       "      <td>2</td>\n",
       "      <td>1</td>\n",
       "      <td>1</td>\n",
       "    </tr>\n",
       "    <tr>\n",
       "      <th>2</th>\n",
       "      <td>1</td>\n",
       "      <td>4</td>\n",
       "      <td>2</td>\n",
       "      <td>5</td>\n",
       "      <td>1</td>\n",
       "      <td>3</td>\n",
       "      <td>1</td>\n",
       "    </tr>\n",
       "    <tr>\n",
       "      <th>3</th>\n",
       "      <td>4</td>\n",
       "      <td>4</td>\n",
       "      <td>2</td>\n",
       "      <td>2</td>\n",
       "      <td>1</td>\n",
       "      <td>2</td>\n",
       "      <td>1</td>\n",
       "    </tr>\n",
       "    <tr>\n",
       "      <th>4</th>\n",
       "      <td>3</td>\n",
       "      <td>3</td>\n",
       "      <td>3</td>\n",
       "      <td>4</td>\n",
       "      <td>3</td>\n",
       "      <td>3</td>\n",
       "      <td>2</td>\n",
       "    </tr>\n",
       "  </tbody>\n",
       "</table>\n",
       "</div>"
      ],
      "text/plain": [
       "   buying_price  maintainence_cost  number_of_doors  number_of_seats  \\\n",
       "0             3                  2                4                2   \n",
       "1             3                  2                2                5   \n",
       "2             1                  4                2                5   \n",
       "3             4                  4                2                2   \n",
       "4             3                  3                3                4   \n",
       "\n",
       "   luggage_boot_size  safety_rating  popularity  \n",
       "0                  2              2           1  \n",
       "1                  2              1           1  \n",
       "2                  1              3           1  \n",
       "3                  1              2           1  \n",
       "4                  3              3           2  "
      ]
     },
     "execution_count": 4,
     "metadata": {},
     "output_type": "execute_result"
    }
   ],
   "source": [
    "df.head()"
   ]
  },
  {
   "cell_type": "code",
   "execution_count": 5,
   "metadata": {},
   "outputs": [
    {
     "name": "stdout",
     "output_type": "stream",
     "text": [
      "<class 'pandas.core.frame.DataFrame'>\n",
      "RangeIndex: 1628 entries, 0 to 1627\n",
      "Data columns (total 7 columns):\n",
      "buying_price         1628 non-null int64\n",
      "maintainence_cost    1628 non-null int64\n",
      "number_of_doors      1628 non-null int64\n",
      "number_of_seats      1628 non-null int64\n",
      "luggage_boot_size    1628 non-null int64\n",
      "safety_rating        1628 non-null int64\n",
      "popularity           1628 non-null int64\n",
      "dtypes: int64(7)\n",
      "memory usage: 89.1 KB\n"
     ]
    }
   ],
   "source": [
    "df.info()"
   ]
  },
  {
   "cell_type": "code",
   "execution_count": 6,
   "metadata": {},
   "outputs": [
    {
     "name": "stdout",
     "output_type": "stream",
     "text": [
      "Size of traning data:1628\n",
      "Size of test data:100\n"
     ]
    }
   ],
   "source": [
    "print('Size of traning data:' + str(len(df)))\n",
    "print('Size of test data:' + str(len(test)))"
   ]
  },
  {
   "cell_type": "markdown",
   "metadata": {},
   "source": [
    "<h2 style=\"color:blue\">Aggregate statistics analysis of data</h2>\n",
    "Using pandas and matplotlib we can easily anlaysis the dataset "
   ]
  },
  {
   "cell_type": "markdown",
   "metadata": {},
   "source": [
    "#### Correlation of different features in dataset"
   ]
  },
  {
   "cell_type": "code",
   "execution_count": 7,
   "metadata": {},
   "outputs": [
    {
     "data": {
      "text/html": [
       "<div>\n",
       "<style>\n",
       "    .dataframe thead tr:only-child th {\n",
       "        text-align: right;\n",
       "    }\n",
       "\n",
       "    .dataframe thead th {\n",
       "        text-align: left;\n",
       "    }\n",
       "\n",
       "    .dataframe tbody tr th {\n",
       "        vertical-align: top;\n",
       "    }\n",
       "</style>\n",
       "<table border=\"1\" class=\"dataframe\">\n",
       "  <thead>\n",
       "    <tr style=\"text-align: right;\">\n",
       "      <th></th>\n",
       "      <th>buying_price</th>\n",
       "      <th>maintainence_cost</th>\n",
       "      <th>number_of_doors</th>\n",
       "      <th>number_of_seats</th>\n",
       "      <th>luggage_boot_size</th>\n",
       "      <th>safety_rating</th>\n",
       "      <th>popularity</th>\n",
       "    </tr>\n",
       "  </thead>\n",
       "  <tbody>\n",
       "    <tr>\n",
       "      <th>buying_price</th>\n",
       "      <td>1.000000</td>\n",
       "      <td>-0.024299</td>\n",
       "      <td>0.002880</td>\n",
       "      <td>0.025954</td>\n",
       "      <td>0.014370</td>\n",
       "      <td>0.027146</td>\n",
       "      <td>-0.227528</td>\n",
       "    </tr>\n",
       "    <tr>\n",
       "      <th>maintainence_cost</th>\n",
       "      <td>-0.024299</td>\n",
       "      <td>1.000000</td>\n",
       "      <td>0.005050</td>\n",
       "      <td>0.010661</td>\n",
       "      <td>0.014216</td>\n",
       "      <td>0.016123</td>\n",
       "      <td>-0.192897</td>\n",
       "    </tr>\n",
       "    <tr>\n",
       "      <th>number_of_doors</th>\n",
       "      <td>0.002880</td>\n",
       "      <td>0.005050</td>\n",
       "      <td>1.000000</td>\n",
       "      <td>-0.006178</td>\n",
       "      <td>-0.001766</td>\n",
       "      <td>-0.014200</td>\n",
       "      <td>0.055274</td>\n",
       "    </tr>\n",
       "    <tr>\n",
       "      <th>number_of_seats</th>\n",
       "      <td>0.025954</td>\n",
       "      <td>0.010661</td>\n",
       "      <td>-0.006178</td>\n",
       "      <td>1.000000</td>\n",
       "      <td>-0.013585</td>\n",
       "      <td>-0.018600</td>\n",
       "      <td>0.367119</td>\n",
       "    </tr>\n",
       "    <tr>\n",
       "      <th>luggage_boot_size</th>\n",
       "      <td>0.014370</td>\n",
       "      <td>0.014216</td>\n",
       "      <td>-0.001766</td>\n",
       "      <td>-0.013585</td>\n",
       "      <td>1.000000</td>\n",
       "      <td>-0.006855</td>\n",
       "      <td>0.124521</td>\n",
       "    </tr>\n",
       "    <tr>\n",
       "      <th>safety_rating</th>\n",
       "      <td>0.027146</td>\n",
       "      <td>0.016123</td>\n",
       "      <td>-0.014200</td>\n",
       "      <td>-0.018600</td>\n",
       "      <td>-0.006855</td>\n",
       "      <td>1.000000</td>\n",
       "      <td>0.424329</td>\n",
       "    </tr>\n",
       "    <tr>\n",
       "      <th>popularity</th>\n",
       "      <td>-0.227528</td>\n",
       "      <td>-0.192897</td>\n",
       "      <td>0.055274</td>\n",
       "      <td>0.367119</td>\n",
       "      <td>0.124521</td>\n",
       "      <td>0.424329</td>\n",
       "      <td>1.000000</td>\n",
       "    </tr>\n",
       "  </tbody>\n",
       "</table>\n",
       "</div>"
      ],
      "text/plain": [
       "                   buying_price  maintainence_cost  number_of_doors  \\\n",
       "buying_price           1.000000          -0.024299         0.002880   \n",
       "maintainence_cost     -0.024299           1.000000         0.005050   \n",
       "number_of_doors        0.002880           0.005050         1.000000   \n",
       "number_of_seats        0.025954           0.010661        -0.006178   \n",
       "luggage_boot_size      0.014370           0.014216        -0.001766   \n",
       "safety_rating          0.027146           0.016123        -0.014200   \n",
       "popularity            -0.227528          -0.192897         0.055274   \n",
       "\n",
       "                   number_of_seats  luggage_boot_size  safety_rating  \\\n",
       "buying_price              0.025954           0.014370       0.027146   \n",
       "maintainence_cost         0.010661           0.014216       0.016123   \n",
       "number_of_doors          -0.006178          -0.001766      -0.014200   \n",
       "number_of_seats           1.000000          -0.013585      -0.018600   \n",
       "luggage_boot_size        -0.013585           1.000000      -0.006855   \n",
       "safety_rating            -0.018600          -0.006855       1.000000   \n",
       "popularity                0.367119           0.124521       0.424329   \n",
       "\n",
       "                   popularity  \n",
       "buying_price        -0.227528  \n",
       "maintainence_cost   -0.192897  \n",
       "number_of_doors      0.055274  \n",
       "number_of_seats      0.367119  \n",
       "luggage_boot_size    0.124521  \n",
       "safety_rating        0.424329  \n",
       "popularity           1.000000  "
      ]
     },
     "execution_count": 7,
     "metadata": {},
     "output_type": "execute_result"
    }
   ],
   "source": [
    "cor = df.corr()\n",
    "cor"
   ]
  },
  {
   "cell_type": "markdown",
   "metadata": {},
   "source": [
    "#### Heatmap of correlation matrix"
   ]
  },
  {
   "cell_type": "code",
   "execution_count": 8,
   "metadata": {},
   "outputs": [
    {
     "data": {
      "text/plain": [
       "<matplotlib.axes._subplots.AxesSubplot at 0x7f95504dbe80>"
      ]
     },
     "execution_count": 8,
     "metadata": {},
     "output_type": "execute_result"
    },
    {
     "data": {
      "image/png": "[encoded data removed]",
      "text/plain": [
       "<matplotlib.figure.Figure at 0x7f95504db198>"
      ]
     },
     "metadata": {},
     "output_type": "display_data"
    }
   ],
   "source": [
    "fig, axs = plt.subplots(figsize=(10,8))\n",
    "sns.heatmap(cor,ax=axs)"
   ]
  },
  {
   "cell_type": "markdown",
   "metadata": {},
   "source": [
    "From above matrix, it clear that all the features are strongly correlated.<br>\n",
    "So all the feature have their impotance for popularity"
   ]
  },
  {
   "cell_type": "markdown",
   "metadata": {},
   "source": [
    "####  Graphs for Group wise distribution for each feature "
   ]
  },
  {
   "cell_type": "code",
   "execution_count": 9,
   "metadata": {},
   "outputs": [
    {
     "data": {
      "text/plain": [
       "<matplotlib.axes._subplots.AxesSubplot at 0x7f954caeebe0>"
      ]
     },
     "execution_count": 9,
     "metadata": {},
     "output_type": "execute_result"
    },
    {
     "data": {
      "image/png": "[encoded data removed]",
      "text/plain": [
       "<matplotlib.figure.Figure at 0x7f954ca1a4e0>"
      ]
     },
     "metadata": {},
     "output_type": "display_data"
    }
   ],
   "source": [
    "fig, axs = plt.subplots(ncols=3,nrows=2,figsize=(16,9))\n",
    "sns.countplot(x=\"buying_price\", hue=\"popularity\", data=df,ax = axs[0][0])\n",
    "sns.countplot(x=\"maintainence_cost\", hue=\"popularity\", data=df,ax = axs[0][1])\n",
    "sns.countplot(x=\"number_of_doors\", hue=\"popularity\", data=df,ax = axs[0][2])\n",
    "sns.countplot(x=\"number_of_seats\", hue=\"popularity\", data=df,ax = axs[1][0])\n",
    "sns.countplot(x=\"luggage_boot_size\", hue=\"popularity\", data=df,ax = axs[1][1])\n",
    "sns.countplot(x=\"safety_rating\", hue=\"popularity\", data=df,ax = axs[1][2])"
   ]
  },
  {
   "cell_type": "markdown",
   "metadata": {},
   "source": [
    "#### voting of each Group for each feature "
   ]
  },
  {
   "cell_type": "code",
   "execution_count": 10,
   "metadata": {},
   "outputs": [
    {
     "name": "stdout",
     "output_type": "stream",
     "text": [
      "buying_price  popularity\n",
      "1             1             253\n",
      "              2              80\n",
      "              3              30\n",
      "              4              21\n",
      "2             1             266\n",
      "              2             109\n",
      "              3              14\n",
      "              4              19\n",
      "3             1             317\n",
      "              2             104\n",
      "4             1             349\n",
      "              2              66\n",
      "Name: popularity, dtype: int64\n"
     ]
    }
   ],
   "source": [
    "print (df.groupby(['buying_price','popularity'])['popularity'].count())"
   ]
  },
  {
   "cell_type": "code",
   "execution_count": 11,
   "metadata": {},
   "outputs": [
    {
     "name": "stdout",
     "output_type": "stream",
     "text": [
      "maintainence_cost  popularity\n",
      "1                  1             260\n",
      "                   2              89\n",
      "                   3              29\n",
      "                   4              14\n",
      "2                  1             266\n",
      "                   2             106\n",
      "                   3              15\n",
      "                   4              17\n",
      "3                  1             307\n",
      "                   2              96\n",
      "                   4               9\n",
      "4                  1             352\n",
      "                   2              68\n",
      "Name: popularity, dtype: int64\n"
     ]
    }
   ],
   "source": [
    "print (df.groupby(['maintainence_cost','popularity'])['popularity'].count())"
   ]
  },
  {
   "cell_type": "code",
   "execution_count": 12,
   "metadata": {},
   "outputs": [
    {
     "name": "stdout",
     "output_type": "stream",
     "text": [
      "maintainence_cost  popularity\n",
      "1                  1             260\n",
      "                   2              89\n",
      "                   3              29\n",
      "                   4              14\n",
      "2                  1             266\n",
      "                   2             106\n",
      "                   3              15\n",
      "                   4              17\n",
      "3                  1             307\n",
      "                   2              96\n",
      "                   4               9\n",
      "4                  1             352\n",
      "                   2              68\n",
      "Name: popularity, dtype: int64\n"
     ]
    }
   ],
   "source": [
    "print (df.groupby(['maintainence_cost','popularity'])['popularity'].count())"
   ]
  },
  {
   "cell_type": "code",
   "execution_count": 13,
   "metadata": {},
   "outputs": [
    {
     "name": "stdout",
     "output_type": "stream",
     "text": [
      "number_of_doors  popularity\n",
      "2                1             319\n",
      "                 2              75\n",
      "                 3               9\n",
      "                 4               8\n",
      "3                1             295\n",
      "                 2              95\n",
      "                 3              10\n",
      "                 4               9\n",
      "4                1             284\n",
      "                 2              92\n",
      "                 3              14\n",
      "                 4              11\n",
      "5                1             287\n",
      "                 2              97\n",
      "                 3              11\n",
      "                 4              12\n",
      "Name: popularity, dtype: int64\n"
     ]
    }
   ],
   "source": [
    "print (df.groupby(['number_of_doors','popularity'])['popularity'].count())"
   ]
  },
  {
   "cell_type": "code",
   "execution_count": 14,
   "metadata": {},
   "outputs": [
    {
     "name": "stdout",
     "output_type": "stream",
     "text": [
      "number_of_seats  popularity\n",
      "2                1             565\n",
      "4                1             308\n",
      "                 2             181\n",
      "                 3              21\n",
      "                 4              20\n",
      "5                1             312\n",
      "                 2             178\n",
      "                 3              23\n",
      "                 4              20\n",
      "Name: popularity, dtype: int64\n"
     ]
    }
   ],
   "source": [
    "print (df.groupby(['number_of_seats','popularity'])['popularity'].count())"
   ]
  },
  {
   "cell_type": "code",
   "execution_count": 15,
   "metadata": {},
   "outputs": [
    {
     "name": "stdout",
     "output_type": "stream",
     "text": [
      "luggage_boot_size  popularity\n",
      "1                  1             441\n",
      "                   2              96\n",
      "                   3              16\n",
      "2                  1             382\n",
      "                   2             128\n",
      "                   3              17\n",
      "                   4              16\n",
      "3                  1             362\n",
      "                   2             135\n",
      "                   3              11\n",
      "                   4              24\n",
      "Name: popularity, dtype: int64\n"
     ]
    }
   ],
   "source": [
    "print (df.groupby(['luggage_boot_size','popularity'])['popularity'].count())"
   ]
  },
  {
   "cell_type": "code",
   "execution_count": 16,
   "metadata": {},
   "outputs": [
    {
     "name": "stdout",
     "output_type": "stream",
     "text": [
      "safety_rating  popularity\n",
      "1              1             565\n",
      "2              1             348\n",
      "               2             163\n",
      "               3              23\n",
      "3              1             272\n",
      "               2             196\n",
      "               3              21\n",
      "               4              40\n",
      "Name: popularity, dtype: int64\n"
     ]
    }
   ],
   "source": [
    "print (df.groupby(['safety_rating','popularity'])['popularity'].count())"
   ]
  },
  {
   "cell_type": "markdown",
   "metadata": {},
   "source": [
    "<h3 style=\"color:blue\">Creating labeled data for feeding into classifier</h3>"
   ]
  },
  {
   "cell_type": "code",
   "execution_count": 17,
   "metadata": {},
   "outputs": [],
   "source": [
    "#input data\n",
    "X = np.array(df.drop(['popularity'],1))\n",
    "#labeled data\n",
    "Y = np.array(df['popularity'])  "
   ]
  },
  {
   "cell_type": "markdown",
   "metadata": {},
   "source": [
    "#### Setting  Standard Scale for data"
   ]
  },
  {
   "cell_type": "code",
   "execution_count": 18,
   "metadata": {},
   "outputs": [],
   "source": [
    "scale = StandardScaler()\n",
    "#fitting the scaler\n",
    "X = scale.fit_transform(X)"
   ]
  },
  {
   "cell_type": "markdown",
   "metadata": {},
   "source": [
    "#### Creating testing data from given traning set using train_test_split"
   ]
  },
  {
   "cell_type": "code",
   "execution_count": 19,
   "metadata": {},
   "outputs": [],
   "source": [
    "X_train, X_test, Y_train, Y_test = train_test_split(X,Y,test_size = 0.01,random_state= None)"
   ]
  },
  {
   "cell_type": "markdown",
   "metadata": {},
   "source": [
    "#### Different classifier for testing accuracy "
   ]
  },
  {
   "cell_type": "code",
   "execution_count": 20,
   "metadata": {},
   "outputs": [],
   "source": [
    "classifiers = {\n",
    "    'KKN' : KNeighborsClassifier(),\n",
    "    'SVC': svm.SVC(),\n",
    "    'DecisionTree':DecisionTreeClassifier(),\n",
    "    'RandomForest':RandomForestClassifier(),\n",
    "    'GradientBoosting':GradientBoostingClassifier(),\n",
    "    'MLP':MLPClassifier(),\n",
    "    'AdaBoost':AdaBoostClassifier(),\n",
    "    'GaussianNB':GaussianNB(),\n",
    "    'QuadraticDiscriminant':QuadraticDiscriminantAnalysis()}    "
   ]
  },
  {
   "cell_type": "code",
   "execution_count": 21,
   "metadata": {},
   "outputs": [
    {
     "data": {
      "text/html": [
       "<div>\n",
       "<style>\n",
       "    .dataframe thead tr:only-child th {\n",
       "        text-align: right;\n",
       "    }\n",
       "\n",
       "    .dataframe thead th {\n",
       "        text-align: left;\n",
       "    }\n",
       "\n",
       "    .dataframe tbody tr th {\n",
       "        vertical-align: top;\n",
       "    }\n",
       "</style>\n",
       "<table border=\"1\" class=\"dataframe\">\n",
       "  <thead>\n",
       "    <tr style=\"text-align: right;\">\n",
       "      <th></th>\n",
       "      <th>F1-scores</th>\n",
       "      <th>mean_accuracy</th>\n",
       "      <th>std</th>\n",
       "    </tr>\n",
       "  </thead>\n",
       "  <tbody>\n",
       "    <tr>\n",
       "      <th>KKN</th>\n",
       "      <td>[0.96, 0.888888888889]</td>\n",
       "      <td>0.975159</td>\n",
       "      <td>0.015470</td>\n",
       "    </tr>\n",
       "    <tr>\n",
       "      <th>SVC</th>\n",
       "      <td>[0.916666666667, 0.8]</td>\n",
       "      <td>0.960279</td>\n",
       "      <td>0.013065</td>\n",
       "    </tr>\n",
       "    <tr>\n",
       "      <th>DecisionTree</th>\n",
       "      <td>[0.96, 0.888888888889]</td>\n",
       "      <td>0.973932</td>\n",
       "      <td>0.007746</td>\n",
       "    </tr>\n",
       "    <tr>\n",
       "      <th>RandomForest</th>\n",
       "      <td>[1.0, 1.0]</td>\n",
       "      <td>0.968956</td>\n",
       "      <td>0.013040</td>\n",
       "    </tr>\n",
       "    <tr>\n",
       "      <th>GradientBoosting</th>\n",
       "      <td>[0.95652173913, 0.909090909091]</td>\n",
       "      <td>0.979515</td>\n",
       "      <td>0.008808</td>\n",
       "    </tr>\n",
       "    <tr>\n",
       "      <th>MLP</th>\n",
       "      <td>[1.0, 1.0]</td>\n",
       "      <td>0.968971</td>\n",
       "      <td>0.010361</td>\n",
       "    </tr>\n",
       "    <tr>\n",
       "      <th>AdaBoost</th>\n",
       "      <td>[0.96, 0.888888888889]</td>\n",
       "      <td>0.852277</td>\n",
       "      <td>0.038916</td>\n",
       "    </tr>\n",
       "    <tr>\n",
       "      <th>GaussianNB</th>\n",
       "      <td>[0.846153846154, 0.333333333333, 0.0]</td>\n",
       "      <td>0.768484</td>\n",
       "      <td>0.024194</td>\n",
       "    </tr>\n",
       "    <tr>\n",
       "      <th>QuadraticDiscriminant</th>\n",
       "      <td>[0.833333333333, 0.571428571429, 0.0]</td>\n",
       "      <td>0.682195</td>\n",
       "      <td>0.028722</td>\n",
       "    </tr>\n",
       "  </tbody>\n",
       "</table>\n",
       "</div>"
      ],
      "text/plain": [
       "                                                   F1-scores  mean_accuracy  \\\n",
       "KKN                                   [0.96, 0.888888888889]       0.975159   \n",
       "SVC                                    [0.916666666667, 0.8]       0.960279   \n",
       "DecisionTree                          [0.96, 0.888888888889]       0.973932   \n",
       "RandomForest                                      [1.0, 1.0]       0.968956   \n",
       "GradientBoosting             [0.95652173913, 0.909090909091]       0.979515   \n",
       "MLP                                               [1.0, 1.0]       0.968971   \n",
       "AdaBoost                              [0.96, 0.888888888889]       0.852277   \n",
       "GaussianNB             [0.846153846154, 0.333333333333, 0.0]       0.768484   \n",
       "QuadraticDiscriminant  [0.833333333333, 0.571428571429, 0.0]       0.682195   \n",
       "\n",
       "                            std  \n",
       "KKN                    0.015470  \n",
       "SVC                    0.013065  \n",
       "DecisionTree           0.007746  \n",
       "RandomForest           0.013040  \n",
       "GradientBoosting       0.008808  \n",
       "MLP                    0.010361  \n",
       "AdaBoost               0.038916  \n",
       "GaussianNB             0.024194  \n",
       "QuadraticDiscriminant  0.028722  "
      ]
     },
     "execution_count": 21,
     "metadata": {},
     "output_type": "execute_result"
    }
   ],
   "source": [
    "kfold = KFold(n_splits=10, random_state=22)\n",
    "xyz=[]\n",
    "accuracy=[]\n",
    "std=[]\n",
    "f1_s = []\n",
    "for name,clf in classifiers.items():\n",
    "    cv_result = cross_val_score(clf,X_train,Y_train, cv = kfold,scoring = \"accuracy\")\n",
    "    cv_result=cv_result\n",
    "    xyz.append(cv_result.mean())\n",
    "    std.append(cv_result.std())\n",
    "    accuracy.append(cv_result)\n",
    "    \n",
    "    clf.fit(X_train,Y_train)\n",
    "    Y_pred = clf.predict(X_test)\n",
    "    f1_s.append(f1_score(Y_test, Y_pred, average=None))\n",
    "    \n",
    "new_clf_dataframe=pd.DataFrame({'mean_accuracy':xyz,'std':std,'F1-scores':f1_s},index=classifiers)       \n",
    "new_clf_dataframe"
   ]
  },
  {
   "cell_type": "code",
   "execution_count": 22,
   "metadata": {},
   "outputs": [
    {
     "data": {
      "image/png": "[encoded data removed]",
      "text/plain": [
       "<matplotlib.figure.Figure at 0x7f954ca1a2e8>"
      ]
     },
     "metadata": {},
     "output_type": "display_data"
    }
   ],
   "source": [
    "new_clf_dataframe['mean_accuracy'].plot.barh(width=0.8)\n",
    "plt.title('Average Mean Accuracy')\n",
    "fig=plt.gcf()\n",
    "fig.set_size_inches(8,5)\n",
    "plt.show()"
   ]
  },
  {
   "cell_type": "markdown",
   "metadata": {},
   "source": [
    "## Prediction on given testing dataset"
   ]
  },
  {
   "cell_type": "code",
   "execution_count": 23,
   "metadata": {},
   "outputs": [],
   "source": [
    "test = pd.read_csv('data/test.csv', header = None )\n",
    "X_t = np.array(test)\n",
    "X_t = scale.transform(X_t)"
   ]
  },
  {
   "cell_type": "markdown",
   "metadata": {},
   "source": [
    "from above obersvation we can ses that some of the classifiers is not working well for this problem, so we are taking best classifier"
   ]
  },
  {
   "cell_type": "code",
   "execution_count": 24,
   "metadata": {},
   "outputs": [],
   "source": [
    "classifiers = {\n",
    "    'KKN' : KNeighborsClassifier(),\n",
    "    'SVC': svm.SVC(),\n",
    "    'DecisionTree':DecisionTreeClassifier(),\n",
    "    'RandomForest':RandomForestClassifier(),\n",
    "    'GradientBoosting':GradientBoostingClassifier()}    "
   ]
  },
  {
   "cell_type": "markdown",
   "metadata": {},
   "source": [
    "### Applying voting on these five classifier"
   ]
  },
  {
   "cell_type": "code",
   "execution_count": 25,
   "metadata": {},
   "outputs": [],
   "source": [
    "def avg_clf(data):\n",
    "    cnt = np.zeros([len(data),4])\n",
    "    for name,clf in classifiers.items():\n",
    "        # X and Y are orginal traning data \n",
    "        clf.fit(X,Y)\n",
    "        Y_pred = clf.predict(X_t)\n",
    "        for i,x in enumerate(Y_pred):\n",
    "            cnt[i][x-1] += 1\n",
    "    out = []\n",
    "    for i in  range(len(cnt)):\n",
    "        my_list = cnt[i].tolist()\n",
    "        max_value = max(my_list)\n",
    "        max_index = my_list.index(max_value) + 1\n",
    "        out.append(max_index)\n",
    "    return out"
   ]
  },
  {
   "cell_type": "code",
   "execution_count": 26,
   "metadata": {},
   "outputs": [],
   "source": [
    "def tune():\n",
    "    mx = 0\n",
    "    CC = 1\n",
    "    gg = .01\n",
    "    kfold = KFold(n_splits=10, random_state=22)\n",
    "    for c in range(1,5):\n",
    "        for gm in (1,10):\n",
    "            clf = svm.SVC(kernel='rbf',C=c,gamma=gm/10)\n",
    "            cv_result = cross_val_score(clf,X_train,Y_train, cv = kfold,scoring = \"accuracy\")\n",
    "            print(c,gm/10,cv_result.mean())\n",
    "            if(mx<cv_result.mean()):\n",
    "                mx = cv_result.mean()\n",
    "                CC = c\n",
    "                gg = gm/10\n",
    "    return CC,gg,mx"
   ]
  },
  {
   "cell_type": "code",
   "execution_count": 27,
   "metadata": {},
   "outputs": [],
   "source": [
    "Y_pred  = avg_clf(X_t)\n",
    "out =pd.DataFrame(Y_pred)"
   ]
  },
  {
   "cell_type": "markdown",
   "metadata": {},
   "source": [
    "The above avg_clf is not giving good score after submitting on leaderboard because sometimes it takes two or more high score with same frequency and and predict some from them<br>\n",
    "**Score: 0.940249 on leaderboard**<br>\n",
    "which is not better than svm "
   ]
  },
  {
   "cell_type": "markdown",
   "metadata": {},
   "source": [
    "#### After Tuning parameters for SVC using tune() function\n",
    "C = 25 from binary search in (1,30)<br>\n",
    "gamma = .6 linear form (0.1,0.9)"
   ]
  },
  {
   "cell_type": "code",
   "execution_count": 28,
   "metadata": {},
   "outputs": [],
   "source": [
    "clf = svm.SVC(kernel='rbf',C=25,gamma=.6)\n",
    "clf.fit(X_train,Y_train)\n",
    "Y_pred = clf.predict(X_t)\n",
    "out =pd.DataFrame(Y_pred)"
   ]
  },
  {
   "cell_type": "markdown",
   "metadata": {},
   "source": [
    "**Score =  0.979611 or 1 on differnt submission**"
   ]
  },
  {
   "cell_type": "code",
   "execution_count": 29,
   "metadata": {},
   "outputs": [],
   "source": [
    "out.to_csv('predictions.csv',index=None,header=None)"
   ]
  },
  {
   "cell_type": "code",
   "execution_count": null,
   "metadata": {},
   "outputs": [],
   "source": []
  }
 ],
 "metadata": {
  "kernelspec": {
   "display_name": "Python 3",
   "language": "python",
   "name": "python3"
  },
  "language_info": {
   "codemirror_mode": {
    "name": "ipython",
    "version": 3
   },
   "file_extension": ".py",
   "mimetype": "text/x-python",
   "name": "python",
   "nbconvert_exporter": "python",
   "pygments_lexer": "ipython3",
   "version": "3.6.2"
  }
 },
 "nbformat": 4,
 "nbformat_minor": 2
}
